{
 "cells": [
  {
   "cell_type": "code",
   "execution_count": 31,
   "metadata": {},
   "outputs": [],
   "source": [
    "import numpy as np\n",
    "import pandas as pd\n",
    "from pathlib import Path\n",
    "from datetime import datetime\n",
    "import xarray as xr\n"
   ]
  },
  {
   "cell_type": "code",
   "execution_count": 2,
   "metadata": {},
   "outputs": [
    {
     "name": "stdout",
     "output_type": "stream",
     "text": [
      "Obtaining file:///C:/Users/shubg/Desktop/GitHub/assetraMP\n",
      "  Installing build dependencies: started\n",
      "  Installing build dependencies: finished with status 'done'\n",
      "  Checking if build backend supports build_editable: started\n",
      "  Checking if build backend supports build_editable: finished with status 'done'\n",
      "  Getting requirements to build editable: started\n",
      "  Getting requirements to build editable: finished with status 'done'\n",
      "  Preparing editable metadata (pyproject.toml): started\n",
      "  Preparing editable metadata (pyproject.toml): finished with status 'done'\n",
      "Requirement already satisfied: netCDF4<2.0.0,>=1.7.2 in c:\\users\\shubg\\anaconda3\\lib\\site-packages (from assetra==1.0.3) (1.7.2)\n",
      "Requirement already satisfied: xarray<2025.0.0,>=2024.10.0 in c:\\users\\shubg\\anaconda3\\lib\\site-packages (from assetra==1.0.3) (2024.11.0)\n",
      "Requirement already satisfied: cftime in c:\\users\\shubg\\anaconda3\\lib\\site-packages (from netCDF4<2.0.0,>=1.7.2->assetra==1.0.3) (1.6.4.post1)\n",
      "Requirement already satisfied: certifi in c:\\users\\shubg\\anaconda3\\lib\\site-packages (from netCDF4<2.0.0,>=1.7.2->assetra==1.0.3) (2024.12.14)\n",
      "Requirement already satisfied: numpy in c:\\users\\shubg\\anaconda3\\lib\\site-packages (from netCDF4<2.0.0,>=1.7.2->assetra==1.0.3) (1.26.4)\n",
      "Requirement already satisfied: packaging>=23.2 in c:\\users\\shubg\\anaconda3\\lib\\site-packages (from xarray<2025.0.0,>=2024.10.0->assetra==1.0.3) (24.1)\n",
      "Requirement already satisfied: pandas>=2.1 in c:\\users\\shubg\\anaconda3\\lib\\site-packages (from xarray<2025.0.0,>=2024.10.0->assetra==1.0.3) (2.2.2)\n",
      "Requirement already satisfied: python-dateutil>=2.8.2 in c:\\users\\shubg\\anaconda3\\lib\\site-packages (from pandas>=2.1->xarray<2025.0.0,>=2024.10.0->assetra==1.0.3) (2.9.0.post0)\n",
      "Requirement already satisfied: pytz>=2020.1 in c:\\users\\shubg\\anaconda3\\lib\\site-packages (from pandas>=2.1->xarray<2025.0.0,>=2024.10.0->assetra==1.0.3) (2024.1)\n",
      "Requirement already satisfied: tzdata>=2022.7 in c:\\users\\shubg\\anaconda3\\lib\\site-packages (from pandas>=2.1->xarray<2025.0.0,>=2024.10.0->assetra==1.0.3) (2023.3)\n",
      "Requirement already satisfied: six>=1.5 in c:\\users\\shubg\\anaconda3\\lib\\site-packages (from python-dateutil>=2.8.2->pandas>=2.1->xarray<2025.0.0,>=2024.10.0->assetra==1.0.3) (1.16.0)\n",
      "Building wheels for collected packages: assetra\n",
      "  Building editable for assetra (pyproject.toml): started\n",
      "  Building editable for assetra (pyproject.toml): finished with status 'done'\n",
      "  Created wheel for assetra: filename=assetra-1.0.3-py3-none-any.whl size=2693 sha256=e87d9d08060b707e08cfdf8292114cb056f8de4eb809927c12bb975a75c84afb\n",
      "  Stored in directory: C:\\Users\\shubg\\AppData\\Local\\Temp\\pip-ephem-wheel-cache-r5q9ees4\\wheels\\fc\\53\\3b\\4b91b0b2c129eebb78724600d07d3f76527c4eb17bf2a5d929\n",
      "Successfully built assetra\n",
      "Installing collected packages: assetra\n",
      "  Attempting uninstall: assetra\n",
      "    Found existing installation: assetra 1.0.3\n",
      "    Uninstalling assetra-1.0.3:\n",
      "      Successfully uninstalled assetra-1.0.3\n",
      "Successfully installed assetra-1.0.3\n"
     ]
    }
   ],
   "source": [
    "#Replace with file path for this directory on your machine\n",
    "!pip install -e \"C:/Users/shubg/Desktop/GitHub/assetraMP\""
   ]
  },
  {
   "cell_type": "code",
   "execution_count": 3,
   "metadata": {},
   "outputs": [],
   "source": [
    "p = Path(\".\")\n",
    "root_folder = p.cwd().parent / 'pjm_run'\n",
    "git_data_folder = root_folder  / 'git_data'\n",
    "gen_data_folder = git_data_folder / 'gen_forecasts' \n",
    "scripts_foler = root_folder/ 'scripts'\n",
    "outside_data_folder = root_folder / 'outside_data'\n",
    "gen_data_folder = git_data_folder / 'gen_forecasts'\n",
    "historical_load_data = git_data_folder / 'historical_load'\n",
    "scratch_folder = root_folder  / 'scratch'"
   ]
  },
  {
   "cell_type": "code",
   "execution_count": 4,
   "metadata": {},
   "outputs": [
    {
     "data": {
      "text/plain": [
       "WindowsPath('c:/Users/shubg/Desktop/GitHub/assetraMP/examples/pjm_run/git_data/historical_load')"
      ]
     },
     "execution_count": 4,
     "metadata": {},
     "output_type": "execute_result"
    }
   ],
   "source": [
    "\n",
    "historical_load_data"
   ]
  },
  {
   "cell_type": "markdown",
   "metadata": {},
   "source": [
    "### Demand Data"
   ]
  },
  {
   "cell_type": "code",
   "execution_count": 5,
   "metadata": {},
   "outputs": [],
   "source": [
    "#Function to load demand data\n",
    "def load_pjm_cleaned_hourly_demand(\n",
    "        pjm_demand_file: Path,\n",
    "        start_hour: datetime,\n",
    "        end_hour: datetime) -> xr.DataArray:\n",
    "    \"\"\"Return hourly demand data as formatted data array.\n",
    "    To use this function, download cleaned demand data from:\n",
    "\n",
    "    https://github.com/truggles/EIA_Cleaned_Hourly_Electricity_Demand_Data\n",
    "\n",
    "    Args:\n",
    "        eia_930_cleaned_demand_file (Path): Path to hourly demand file\n",
    "        start_hour (datetime): First timestamp to include\n",
    "        end_hour (datetime): Last timestamp to include (inclusive)\n",
    "\n",
    "    Returns:\n",
    "        xr.DataArray: Hourly demand array with time dimension and datetime coordinates.\n",
    "    \"\"\"\n",
    "    # read demand file\n",
    "    pjm_demand_df = pd.read_csv(\n",
    "        pjm_demand_file,\n",
    "        usecols=[\"datetime_beginning_ept\", \"mw\"],\n",
    "        index_col=\"datetime_beginning_ept\",\n",
    "        parse_dates=True,\n",
    "    )\n",
    "\n",
    "    # remove leap day\n",
    "    #pjm_demand_df = pjm_demand_df[~((pjm_demand_df.index.month == 2) & (pjm_demand_df.index.day == 29))]\n",
    "\n",
    "\n",
    "    # keep cleaned demand demand\n",
    "    pjm_hourly_demand_pd = pjm_demand_df[\"mw\"].loc[start_hour:end_hour]\n",
    "\n",
    "    # convert to xr.DataArray\n",
    "    pjm_hourly_demand = xr.DataArray(\n",
    "        data=pjm_hourly_demand_pd.values,\n",
    "        coords=dict(\n",
    "            time=pjm_hourly_demand_pd.index.values\n",
    "        )\n",
    "    )\n",
    "    return pjm_hourly_demand"
   ]
  },
  {
   "cell_type": "code",
   "execution_count": 6,
   "metadata": {},
   "outputs": [],
   "source": [
    "#Load demand data\n",
    "pjm_cleaned_demand_file = Path( historical_load_data /  \"pjm_load_2020.csv\")\n",
    "hourly_demand = load_pjm_cleaned_hourly_demand(\n",
    "\tpjm_cleaned_demand_file,\n",
    "\tstart_hour=\"2020-01-01 00:00:00\",\n",
    "\tend_hour=\"2020-12-31 23:00:00\"\n",
    ")"
   ]
  },
  {
   "cell_type": "code",
   "execution_count": 7,
   "metadata": {},
   "outputs": [],
   "source": [
    "from assetra.system import EnergySystem\n",
    "from assetra.system import EnergySystemBuilder\n",
    "\n",
    "builder = EnergySystemBuilder()\n",
    "unit_count = 0\n"
   ]
  },
  {
   "cell_type": "code",
   "execution_count": 8,
   "metadata": {},
   "outputs": [],
   "source": [
    "# create demand unit\n",
    "from assetra.units import DemandUnit\n",
    "\n",
    "builder.add_unit(\n",
    "    DemandUnit(\n",
    "        id=unit_count,\n",
    "        hourly_demand=hourly_demand\n",
    "    )\n",
    ")\n",
    "unit_count += 1"
   ]
  },
  {
   "cell_type": "markdown",
   "metadata": {},
   "source": [
    "### EIA 860 Data"
   ]
  },
  {
   "cell_type": "code",
   "execution_count": 9,
   "metadata": {},
   "outputs": [],
   "source": [
    "#Test for just one year\n",
    "thermal_generators = pd.read_csv(gen_data_folder / \"thermal_2025.csv\") #, index_col=0)\n",
    "wind_generators = pd.read_csv(gen_data_folder / \"wind_2025.csv\")#, index_col=0)\n",
    "solar_generators = pd.read_csv(gen_data_folder / \"solar_2025.csv\")#, index_col=0)\n",
    "storage_generators = pd.read_csv(gen_data_folder / \"batteries_2025.csv\")#, index_col=0)\n",
    "thermal_generators.reset_index(inplace=True)\n",
    "storage_generators.reset_index(inplace=True)\n",
    "solar_generators.reset_index(inplace=True)\n",
    "wind_generators.reset_index(inplace=True)\n",
    "thermal_generators.loc[(thermal_generators['MC'].isnull()), \"MC\"] = 9999\n"
   ]
  },
  {
   "cell_type": "markdown",
   "metadata": {},
   "source": [
    "### Import MERRA"
   ]
  },
  {
   "cell_type": "code",
   "execution_count": 10,
   "metadata": {},
   "outputs": [],
   "source": [
    "pow_gen_file_2020 = Path(outside_data_folder / \"power_gen_data\" / \"pjm_power_generation_2020.nc\")\n",
    "pow_gen_dataset_2020 = xr.open_dataset(pow_gen_file_2020)\n"
   ]
  },
  {
   "cell_type": "code",
   "execution_count": 11,
   "metadata": {},
   "outputs": [],
   "source": [
    "\n",
    "pow_gen_dataset = pow_gen_dataset_2020\n",
    "\n",
    "def get_nearest_hourly_profile(\n",
    "    latitude: float,\n",
    "    longitude: float,\n",
    "    array: xr.DataArray\n",
    ") -> xr.DataArray:\n",
    "    \"\"\"Return time series corresponding to the nearest coordinate in a\n",
    "    MERRA power generation data array.\n",
    "\n",
    "    Args:\n",
    "        latitude (float): Latitude relative to equator in degrees\n",
    "        start_hour (datetime): Longitude relative to meridian in degrees\n",
    "        array (xr.DataArray): \"solar_capacity_factor\", \"wind_capacity_factor\",\n",
    "            or \"temperature\"\n",
    "\n",
    "    Returns:\n",
    "        xr.DataArray: Array with time dimension and datetime coordinates.\n",
    "    \"\"\"\n",
    "    return array.sel(\n",
    "            lat=latitude, \n",
    "            lon=longitude, \n",
    "            method=\"nearest\"\n",
    "        ).squeeze(drop=True)\n",
    "\n",
    "def get_merra_power_generation_solar_cf(\n",
    "    latitude: float,\n",
    "    longitude: float) -> xr.DataArray:\n",
    "    return get_nearest_hourly_profile(latitude, longitude, pow_gen_dataset[\"solar_capacity_factor\"])\n",
    "\n",
    "def get_merra_power_generation_wind_cf(\n",
    "    latitude: float,\n",
    "    longitude: float) -> xr.DataArray:\n",
    "    return get_nearest_hourly_profile(latitude, longitude, pow_gen_dataset[\"wind_capacity_factor\"])\n",
    "\n",
    "def get_merra_power_generation_temperature(\n",
    "    latitude: float,\n",
    "    longitude: float) -> xr.DataArray:\n",
    "    return get_nearest_hourly_profile(latitude, longitude, pow_gen_dataset[\"temperature\"])"
   ]
  },
  {
   "cell_type": "code",
   "execution_count": 12,
   "metadata": {},
   "outputs": [],
   "source": [
    "import pandas as pd\n",
    "\n",
    "# load temperature dependent outage rate (tdfor) table\n",
    "tdfor_table_file = Path( git_data_folder / \"temperature_dependent_outage_rates.csv\")\n",
    "tdfor_table = pd.read_csv(tdfor_table_file, index_col=0)\n",
    "tdfor_table = tdfor_table / 100 # percentages stored as integers\n",
    "\n",
    "# create mapping table for tdfor table\n",
    "tech_categories = {\n",
    "    \"CC\" : [\"Natural Gas Fired Combined Cycle\"],\n",
    "    \"CT\" : [\"Natural Gas Fired Combustion Turbine\",\"Landfill Gas\"],\n",
    "    \"DS\" : [\"Natural Gas Internal Combustion Engine\"],\n",
    "    \"ST\" : [\"Conventional Steam Coal\",\"Natural Gas Steam Turbine\"],\n",
    "    \"NU\" : [\"Nuclear\"],\n",
    "    \"HD\" : [\"Conventional Hydroelectric\",\"Solar Thermal without Energy Storage\",\n",
    "                   \"Hydroelectric Pumped Storage\",\"Solar Thermal with Energy Storage\",\"Wood/Wood Waste Biomass\"]\n",
    "}\n",
    "\n",
    "# create mapping from technology to category\n",
    "tech_mapping = {tech : cat for cat, techs in tech_categories.items() for tech in techs}\n",
    "\n",
    "def get_hourly_forced_outage_rate(hourly_temperature: xr.DataArray, technology: str) -> xr.DataArray:\n",
    "    # index tdfor table by tech\n",
    "    tdfor_map = tdfor_table[tech_mapping.get(technology, \"Other\")]\n",
    "    map_temp_to_for = lambda hourly_temperature: tdfor_map.iloc[\n",
    "            tdfor_map.index.get_indexer(hourly_temperature, method=\"nearest\")\n",
    "        ]\n",
    "    return xr.apply_ufunc(\n",
    "        map_temp_to_for,\n",
    "        hourly_temperature\n",
    "    ).rename(\"hourly_forced_outage_rate\")\n"
   ]
  },
  {
   "cell_type": "markdown",
   "metadata": {},
   "source": [
    "### Build Units"
   ]
  },
  {
   "cell_type": "code",
   "execution_count": 13,
   "metadata": {},
   "outputs": [],
   "source": [
    "from assetra.units import StochasticUnit\n",
    "\n",
    "\n",
    "for _, generator in thermal_generators.iterrows():\n",
    "    # get hourly temperature\n",
    "    hourly_temperature = get_merra_power_generation_temperature(\n",
    "        generator[\"LAT\"],\n",
    "        generator[\"LON\"]\n",
    "    )\n",
    "\n",
    "    # map temperature to hourly forced outage rate\n",
    "    hourly_forced_outage_rate = get_hourly_forced_outage_rate(hourly_temperature, generator[\"Technology\"])\n",
    "\n",
    "    # get hourly capacity\n",
    "    hourly_capacity = ( \n",
    "        xr.ones_like(hourly_temperature).rename(\"hourly_capacity\") \n",
    "        * generator[\"Nameplate Capacity (MW)\"]\n",
    "    )\n",
    "\n",
    "    # create assetra energy unit\n",
    "    thermal_unit = StochasticUnit(\n",
    "            id=unit_count,\n",
    "            nameplate_capacity=generator[\"Nameplate Capacity (MW)\"],\n",
    "            hourly_capacity=hourly_capacity,\n",
    "            hourly_forced_outage_rate=hourly_forced_outage_rate,\n",
    "            marginal_cost = generator[\"MC\"],\n",
    "        )\n",
    "    unit_count += 1\n",
    "    \n",
    "    # add unit to energy system\n",
    "    builder.add_unit(thermal_unit)\n",
    "\n"
   ]
  },
  {
   "cell_type": "code",
   "execution_count": 14,
   "metadata": {},
   "outputs": [],
   "source": [
    "\n",
    "# add solar \n",
    "for _, generator in solar_generators.iterrows():\n",
    "    # get hourly temperature\n",
    "    hourly_temperature = get_merra_power_generation_temperature(\n",
    "        generator[\"LAT\"],\n",
    "        generator[\"LON\"]\n",
    "    )\n",
    "    # get hourly temperature\n",
    "    hourly_capacity = get_merra_power_generation_solar_cf(\n",
    "        generator[\"LAT\"],\n",
    "        generator[\"LON\"]\n",
    "    ) * generator[\"Nameplate Capacity (MW)\"]\n",
    "\n",
    "    # map temperature to hourly forced outage rate\n",
    "    hourly_forced_outage_rate = get_hourly_forced_outage_rate(hourly_temperature, generator[\"Technology\"])\n",
    "\n",
    "    # create assetra energy unit\n",
    "    solar_unit = StochasticUnit(\n",
    "            id=unit_count,\n",
    "            nameplate_capacity=generator[\"Nameplate Capacity (MW)\"],\n",
    "            hourly_capacity=hourly_capacity,\n",
    "            hourly_forced_outage_rate=hourly_forced_outage_rate,\n",
    "            marginal_cost = generator[\"MC\"], #0,\n",
    "            )\n",
    "    unit_count += 1\n",
    "    \n",
    "    # add unit to energy system\n",
    "    builder.add_unit(solar_unit)\n",
    "\n",
    "# add wind\n",
    "for _, generator in wind_generators.iterrows():\n",
    "    # get hourly temperature\n",
    "    hourly_temperature = get_merra_power_generation_temperature(\n",
    "        \n",
    "        generator[\"LAT\"],\n",
    "        generator[\"LON\"]\n",
    "    )\n",
    "    # get hourly temperature\n",
    "    hourly_capacity = get_merra_power_generation_wind_cf(\n",
    "        generator[\"LAT\"],\n",
    "        generator[\"LON\"]\n",
    "    ) * generator[\"Nameplate Capacity (MW)\"]\n",
    "\n",
    "    # map temperature to hourly forced outage rate\n",
    "    hourly_forced_outage_rate = get_hourly_forced_outage_rate(hourly_temperature, generator[\"Technology\"])\n",
    "\n",
    "\n",
    "    # create assetra energy unit\n",
    "    wind_unit = StochasticUnit(\n",
    "            id=unit_count,\n",
    "            nameplate_capacity=generator[\"Nameplate Capacity (MW)\"],\n",
    "            hourly_capacity=hourly_capacity,\n",
    "            hourly_forced_outage_rate=hourly_forced_outage_rate,\n",
    "            marginal_cost = generator[\"MC\"],# 0,\n",
    "            )\n",
    "    unit_count += 1\n",
    "    \n",
    "    # add unit to energy system\n",
    "    builder.add_unit(wind_unit)\n",
    "\n"
   ]
  },
  {
   "cell_type": "code",
   "execution_count": 15,
   "metadata": {},
   "outputs": [],
   "source": [
    "from assetra.units import StorageUnit\n",
    "\n",
    "#class_to_test = '8'\n",
    "#class_to_test_lst = []\n",
    "\n",
    "STORAGE_EFFICIENCY = 0.85\n",
    "\n",
    "for _, generator in storage_generators.iterrows():\n",
    "    storage_duration = generator[\"Nameplate Energy Capacity (MWh)\"] / generator[\"Nameplate Capacity (MW)\"]\n",
    "    if storage_duration < 4:\n",
    "        storage_class = '4'\n",
    "    elif 4 <= storage_duration < 6:\n",
    "        storage_class = '4'\n",
    "    elif 6 <= storage_duration < 8:\n",
    "        storage_class = '8'\n",
    "    elif 8 <= storage_duration < 10:\n",
    "        storage_class = '8'\n",
    "    else:\n",
    "        storage_class = '4'\n",
    "\n",
    "    #if storage_class == class_to_test:\n",
    "     #   class_to_test_lst.append(generator)\n",
    "    #else:\n",
    "    storage_unit = StorageUnit(\n",
    "        id=unit_count,\n",
    "        nameplate_capacity=generator[\"Nameplate Capacity (MW)\"],\n",
    "        charge_rate=generator[\"Nameplate Capacity (MW)\"],\n",
    "        discharge_rate=generator[\"Nameplate Capacity (MW)\"],\n",
    "        charge_capacity=generator[\"Nameplate Energy Capacity (MWh)\"],\n",
    "        roundtrip_efficiency = STORAGE_EFFICIENCY,\n",
    "        storage_duration = generator[\"Nameplate Energy Capacity (MWh)\"] / generator[\"Nameplate Capacity (MW)\"],\n",
    "        storage_class = storage_class       \n",
    "    )\n",
    "    unit_count += 1\n",
    "\n",
    "        # add unit to energy system\n",
    "    builder.add_unit(storage_unit)\n",
    "    #class_to_test_df = pd.DataFrame(class_to_test_lst, columns=storage_generators.columns)"
   ]
  },
  {
   "cell_type": "markdown",
   "metadata": {},
   "source": [
    "### Build and Run the Model"
   ]
  },
  {
   "cell_type": "code",
   "execution_count": 16,
   "metadata": {},
   "outputs": [],
   "source": [
    "from assetra.system import EnergySystem\n",
    "from assetra.system import EnergySystemBuilder"
   ]
  },
  {
   "cell_type": "code",
   "execution_count": 17,
   "metadata": {},
   "outputs": [],
   "source": [
    "system_dir = Path(scratch_folder / \"pjm_energy_system_TEST\")\n",
    "\n",
    "energy_system = builder.build()\n",
    "energy_system.save(system_dir)\n"
   ]
  },
  {
   "cell_type": "code",
   "execution_count": 18,
   "metadata": {},
   "outputs": [],
   "source": [
    "energy_system = EnergySystem()\n",
    "energy_system.load(system_dir)"
   ]
  },
  {
   "cell_type": "code",
   "execution_count": 19,
   "metadata": {},
   "outputs": [
    {
     "name": "stdout",
     "output_type": "stream",
     "text": [
      "# of Units: 4039\n",
      "Sys. Capacity (MW): 216459\n"
     ]
    }
   ],
   "source": [
    "print(\"# of Units:\", energy_system.size)\n",
    "print(\"Sys. Capacity (MW):\", round(energy_system.system_capacity))"
   ]
  },
  {
   "cell_type": "code",
   "execution_count": 20,
   "metadata": {},
   "outputs": [],
   "source": [
    "from assetra.simulation import ProbabilisticSimulation\n",
    "\n",
    "simulation = ProbabilisticSimulation(\n",
    "    start_hour=\"2020-01-01 00:00:00\",\n",
    "    end_hour=\"2020-12-31 23:00:00\",\n",
    "    trial_size=1\n",
    ")\n",
    "\n",
    "simulation.assign_energy_system(energy_system)\n",
    "simulation.run()"
   ]
  },
  {
   "cell_type": "markdown",
   "metadata": {},
   "source": [
    "The ProbabilisticSimulation object generates a net hourly capacity matrix, representing net system capacity in each Monte Carlo trial. We can access a copy of this matrix to analyze shortfalls."
   ]
  },
  {
   "cell_type": "code",
   "execution_count": 21,
   "metadata": {},
   "outputs": [
    {
     "data": {
      "text/html": [
       "<div>\n",
       "<style scoped>\n",
       "    .dataframe tbody tr th:only-of-type {\n",
       "        vertical-align: middle;\n",
       "    }\n",
       "\n",
       "    .dataframe tbody tr th {\n",
       "        vertical-align: top;\n",
       "    }\n",
       "\n",
       "    .dataframe thead th {\n",
       "        text-align: right;\n",
       "    }\n",
       "</style>\n",
       "<table border=\"1\" class=\"dataframe\">\n",
       "  <thead>\n",
       "    <tr style=\"text-align: right;\">\n",
       "      <th>trial</th>\n",
       "      <th>0</th>\n",
       "    </tr>\n",
       "    <tr>\n",
       "      <th>time</th>\n",
       "      <th></th>\n",
       "    </tr>\n",
       "  </thead>\n",
       "  <tbody>\n",
       "    <tr>\n",
       "      <th>2020-01-03 17:00:00</th>\n",
       "      <td>-3189.544124</td>\n",
       "    </tr>\n",
       "    <tr>\n",
       "      <th>2020-01-03 18:00:00</th>\n",
       "      <td>-9244.638282</td>\n",
       "    </tr>\n",
       "    <tr>\n",
       "      <th>2020-01-03 19:00:00</th>\n",
       "      <td>-1868.160165</td>\n",
       "    </tr>\n",
       "    <tr>\n",
       "      <th>2020-01-05 08:00:00</th>\n",
       "      <td>-669.506201</td>\n",
       "    </tr>\n",
       "    <tr>\n",
       "      <th>2020-01-06 07:00:00</th>\n",
       "      <td>-12048.201775</td>\n",
       "    </tr>\n",
       "    <tr>\n",
       "      <th>...</th>\n",
       "      <td>...</td>\n",
       "    </tr>\n",
       "    <tr>\n",
       "      <th>2020-12-30 21:00:00</th>\n",
       "      <td>-13107.425634</td>\n",
       "    </tr>\n",
       "    <tr>\n",
       "      <th>2020-12-31 17:00:00</th>\n",
       "      <td>-12185.887334</td>\n",
       "    </tr>\n",
       "    <tr>\n",
       "      <th>2020-12-31 18:00:00</th>\n",
       "      <td>-13348.654417</td>\n",
       "    </tr>\n",
       "    <tr>\n",
       "      <th>2020-12-31 19:00:00</th>\n",
       "      <td>-6344.799184</td>\n",
       "    </tr>\n",
       "    <tr>\n",
       "      <th>2020-12-31 20:00:00</th>\n",
       "      <td>-5053.433417</td>\n",
       "    </tr>\n",
       "  </tbody>\n",
       "</table>\n",
       "<p>2844 rows × 1 columns</p>\n",
       "</div>"
      ],
      "text/plain": [
       "trial                           0\n",
       "time                             \n",
       "2020-01-03 17:00:00  -3189.544124\n",
       "2020-01-03 18:00:00  -9244.638282\n",
       "2020-01-03 19:00:00  -1868.160165\n",
       "2020-01-05 08:00:00   -669.506201\n",
       "2020-01-06 07:00:00 -12048.201775\n",
       "...                           ...\n",
       "2020-12-30 21:00:00 -13107.425634\n",
       "2020-12-31 17:00:00 -12185.887334\n",
       "2020-12-31 18:00:00 -13348.654417\n",
       "2020-12-31 19:00:00  -6344.799184\n",
       "2020-12-31 20:00:00  -5053.433417\n",
       "\n",
       "[2844 rows x 1 columns]"
      ]
     },
     "execution_count": 21,
     "metadata": {},
     "output_type": "execute_result"
    }
   ],
   "source": [
    "# convert net hourly capacity matrix to pandas dataframe with risk hours only\n",
    "shortfall_matrix_pd = simulation.net_hourly_capacity_matrix.where(lambda c: c < 0).to_pandas().T.dropna(how=\"all\")\n",
    "shortfall_matrix_pd"
   ]
  },
  {
   "cell_type": "markdown",
   "metadata": {},
   "source": [
    "### Calculating Reliability Metrics"
   ]
  },
  {
   "cell_type": "markdown",
   "metadata": {},
   "source": [
    "\n",
    "We can calculate hourly loss of load probability from the net hourly capacity matrix"
   ]
  },
  {
   "cell_type": "code",
   "execution_count": 22,
   "metadata": {},
   "outputs": [
    {
     "data": {
      "text/plain": [
       "time\n",
       "2020-01-03 17:00:00    1.0\n",
       "2020-08-21 14:00:00    1.0\n",
       "2020-08-22 18:00:00    1.0\n",
       "2020-08-22 19:00:00    1.0\n",
       "2020-08-22 20:00:00    1.0\n",
       "2020-08-22 21:00:00    1.0\n",
       "2020-08-22 22:00:00    1.0\n",
       "2020-08-22 23:00:00    1.0\n",
       "2020-08-23 08:00:00    1.0\n",
       "2020-08-23 09:00:00    1.0\n",
       "dtype: float64"
      ]
     },
     "execution_count": 22,
     "metadata": {},
     "output_type": "execute_result"
    }
   ],
   "source": [
    "# get loss of load probability\n",
    "loss_of_load_prob = shortfall_matrix_pd.count(axis=1) / shortfall_matrix_pd.shape[1]\n",
    "\n",
    "# show top 10 risk hours\n",
    "loss_of_load_prob.sort_values(ascending=False)[:10]"
   ]
  },
  {
   "cell_type": "code",
   "execution_count": 23,
   "metadata": {},
   "outputs": [
    {
     "name": "stdout",
     "output_type": "stream",
     "text": [
      "System EUE: 139823907.68 MWh\n"
     ]
    }
   ],
   "source": [
    "from assetra.metrics import ExpectedUnservedEnergy\n",
    "\n",
    "# instantiate eue model\n",
    "eue_model = ExpectedUnservedEnergy(simulation)\n",
    "eue = eue_model.evaluate()\n",
    "\n",
    "print(\"System EUE:\", round(eue, 2), \"MWh\")"
   ]
  },
  {
   "cell_type": "code",
   "execution_count": 24,
   "metadata": {},
   "outputs": [
    {
     "data": {
      "text/plain": [
       "EUE (MWh)    139823907.7\n",
       "LOLH (h)          2844.0\n",
       "LOLD (d)           234.0\n",
       "LOLF (#)           267.0\n",
       "dtype: float64"
      ]
     },
     "execution_count": 24,
     "metadata": {},
     "output_type": "execute_result"
    }
   ],
   "source": [
    "from assetra.metrics import LossOfLoadHours, LossOfLoadDays, LossOfLoadFrequency\n",
    "import pandas as pd\n",
    "\n",
    "adequacy = pd.Series(dtype=float)\n",
    "\n",
    "for name, metric in [\n",
    "    (\"EUE (MWh)\", ExpectedUnservedEnergy),\n",
    "    (\"LOLH (h)\", LossOfLoadHours),\n",
    "    (\"LOLD (d)\", LossOfLoadDays),\n",
    "    (\"LOLF (#)\", LossOfLoadFrequency)\n",
    "]:\n",
    "    adequacy[name] = metric(simulation).evaluate()\n",
    "\n",
    "# show results\n",
    "adequacy.round(1)"
   ]
  },
  {
   "cell_type": "code",
   "execution_count": 25,
   "metadata": {},
   "outputs": [
    {
     "data": {
      "text/plain": [
       "EUE (MWh)                      139823907.7\n",
       "LOLH (h)                            2844.0\n",
       "LOLD (d)                             234.0\n",
       "LOLF (#)                             267.0\n",
       "Average Outage Duration (h)           10.7\n",
       "Average Shortfall (MW)             49164.5\n",
       "dtype: float64"
      ]
     },
     "execution_count": 25,
     "metadata": {},
     "output_type": "execute_result"
    }
   ],
   "source": [
    "adequacy[\"Average Outage Duration (h)\"] = adequacy[\"LOLH (h)\"] / adequacy[\"LOLF (#)\"]\n",
    "adequacy[\"Average Shortfall (MW)\"] = adequacy[\"EUE (MWh)\"] / adequacy[\"LOLH (h)\"]\n",
    "\n",
    "# show results\n",
    "adequacy.round(1)\n"
   ]
  },
  {
   "cell_type": "markdown",
   "metadata": {},
   "source": [
    "### Calculating UCAP"
   ]
  },
  {
   "cell_type": "code",
   "execution_count": null,
   "metadata": {},
   "outputs": [],
   "source": [
    "#Extracting unit level charge/discharge in each hour for this simulation\n",
    "#storage_performance = simulation.unit_performance[\"StorageUnit\"]\n",
    "#Extracting the performance of one storage asset and converting to a dataframe\n",
    "#specific_performance = storage_performance.sel(energy_unit = 1)\n",
    "#specific_performance.to_dataframe(name = 'performance').reset_index()\n",
    "#plot the dataframe for just january\n",
    "#specific_performance = specific_performance.sel(time=slice(\"2020-01-01\", \"2020-01-31\"))\n",
    "#import matplotlib.pyplot as plt\n",
    "#fig, ax = plt.subplots(figsize=(10, 6))\n",
    "#specific_performance.to_dataframe(name = 'performance').reset_index().plot(x='time', y='performance', ax=ax)"
   ]
  },
  {
   "cell_type": "code",
   "execution_count": 121,
   "metadata": {},
   "outputs": [],
   "source": [
    "storage_performance = simulation.unit_performance[\"StorageUnit\"]"
   ]
  },
  {
   "cell_type": "code",
   "execution_count": 123,
   "metadata": {},
   "outputs": [],
   "source": [
    "#Converting this xarray into a dataframe\n",
    "\n",
    "# Convert 'performance' to a DataFrame\n",
    "df_performance = performance.to_dataframe(name='performance').reset_index()\n",
    "\n",
    "# Convert 'nameplate_capacity' to a DataFrame\n",
    "df_nameplate_capacity = nameplate_capacity.to_dataframe(name='nameplate_capacity').reset_index()\n",
    "\n",
    "# Convert 'charge_capacity' to a DataFrame\n",
    "df_charge_capacity = nameplate_energy_capacity.to_dataframe(name='nameplate_energy_capacity').reset_index()\n",
    "\n",
    "# Merge the nameplate capacity and charge capacity DataFrames on 'energy_unit'\n",
    "df_combined = pd.merge(df_nameplate_capacity, df_charge_capacity, on='energy_unit', how='inner')\n",
    "\n",
    "# Concatenate df_combined and df_performance along axis 1 (columns)\n",
    "batteries_performance_df = pd.concat([df_combined, df_performance], axis=1)\n",
    "\n",
    "#renaming the first energy_unit to battery_unit_num\n",
    "batteries_performance_df.columns.values[0] = 'battery_unit_num'"
   ]
  },
  {
   "cell_type": "code",
   "execution_count": 122,
   "metadata": {},
   "outputs": [],
   "source": [
    "#Calculating the annual energy capacity of each battery\n",
    "\n",
    "#Identifying the max duration of each battery\n",
    "batteries_performance_df['duration'] = batteries_performance_df['nameplate_energy_capacity']/batteries_performance_df['nameplate_capacity']\n",
    "#classiying them as 4 or 8 hour batteries\n",
    "batteries_performance_df['class'] = batteries_performance_df['duration'].apply(lambda x: '4' if x <6 else '8')\n",
    "#calculating the total annual energy capacity of each battery\n",
    "num_hours = performance.sizes[\"time\"] #number of hours in this year\n",
    "batteries_performance_df['annual_energy_cap_mwh'] = (num_hours/batteries_performance_df['duration'])*batteries_performance_df['nameplate_energy_capacity']"
   ]
  },
  {
   "cell_type": "markdown",
   "metadata": {},
   "source": [
    "RPA = Au/Ac ie the ratio of the availability of a unit to that of its whole class.\n",
    "\n",
    "Au = summation(discharges_over_time_mwh)/nameplate_energy_capacity_mwh\n",
    "\n",
    "Ac =  summation(all Au_numerators)/summation(all Au_denominators)"
   ]
  },
  {
   "cell_type": "code",
   "execution_count": 120,
   "metadata": {},
   "outputs": [
    {
     "data": {
      "text/plain": [
       "energy_unit\n",
       "0      0.933658\n",
       "1     16.709461\n",
       "2      9.564981\n",
       "3     19.110642\n",
       "4      1.836156\n",
       "5      0.954801\n",
       "6      1.193501\n",
       "7      0.954801\n",
       "8     23.870025\n",
       "9      1.734747\n",
       "10     4.238542\n",
       "11     0.605506\n",
       "12     1.905758\n",
       "13     0.476271\n",
       "14     0.604693\n",
       "15     0.960159\n",
       "16     3.167615\n",
       "17    18.997924\n",
       "18     0.958743\n",
       "19     0.958743\n",
       "20    18.983105\n",
       "21    18.983105\n",
       "22     1.054145\n",
       "23     1.896052\n",
       "24     0.948026\n",
       "25    31.569381\n",
       "26     1.803613\n",
       "27     1.578162\n",
       "28     0.946897\n",
       "29     0.127522\n",
       "30     1.572814\n",
       "31     1.784477\n",
       "32     0.079643\n",
       "33     0.095571\n",
       "34     1.992033\n",
       "35     0.041860\n",
       "36     0.435349\n",
       "37     0.669767\n",
       "38     0.041860\n",
       "39     0.828837\n",
       "40     0.828837\n",
       "41     0.041860\n",
       "42     0.418605\n",
       "43     0.501931\n",
       "44     0.834300\n",
       "45     0.292005\n",
       "46     0.258633\n",
       "47     0.627203\n",
       "48     0.505271\n",
       "49     0.041656\n",
       "50     0.208279\n",
       "51     0.345742\n",
       "52     0.170788\n",
       "53     0.033325\n",
       "54     0.520696\n",
       "55     0.520696\n",
       "56     0.324915\n",
       "57     0.083311\n",
       "58     0.041656\n",
       "dtype: float64"
      ]
     },
     "execution_count": 120,
     "metadata": {},
     "output_type": "execute_result"
    }
   ],
   "source": [
    "#Calculating RPA\n",
    "Au_numerator = batteries_performance_df[batteries_performance_df['performance'] > 0].groupby('energy_unit')['performance'].sum()\n",
    "Au_denominator = batteries_performance_df.loc[0:58,'annual_energy_cap_mwh']\n",
    "Au = Au_numerator/Au_denominator\n",
    "\n",
    "Ac_numerator = Au_numerator.sum()\n",
    "Ac_denominator = Au_denominator.sum()\n",
    "Ac = Ac_numerator/Ac_denominator\n",
    "\n",
    "RPAu = Au/Ac\n",
    "RPAu"
   ]
  },
  {
   "cell_type": "markdown",
   "metadata": {},
   "source": [
    "### Not Using this ELCC method - do not run\n",
    "Quantify resource contribution (ELCC)\n",
    "\n",
    "Resource contribution is a typical extension of resource adequacy analysis. The assetra package implements effective load-carrying capability (ELCC) to quantify resource contribution. When we instantiate an EffectiveLoadCarryingCapability object, the base system will automatically be evaluated according to the ResourceAdequacyMetric type we provide. In the following example, we indicate that resource adequacy should be defined as EUE (e.g. rather than LOLH) by passing ExpectedUnservedEnergy (the class not an instance) as the last parameter to the ELCC instance.\n"
   ]
  },
  {
   "cell_type": "code",
   "execution_count": null,
   "metadata": {},
   "outputs": [],
   "source": [
    "builder = EnergySystemBuilder()\n",
    "\n",
    "for _, generator in class_to_test_df.iterrows():\n",
    "    storage_duration = generator[\"Nameplate Energy Capacity (MWh)\"] / generator[\"Nameplate Capacity (MW)\"]\n",
    "    if storage_duration < 4:\n",
    "        storage_class = '4'\n",
    "    elif 4 <= storage_duration < 6:\n",
    "        storage_class = '4'\n",
    "    elif 6 <= storage_duration < 8:\n",
    "        storage_class = '8'\n",
    "    elif 8 <= storage_duration < 10:\n",
    "        storage_class = '8'\n",
    "    else:\n",
    "        storage_class = '8'\n",
    "        \n",
    "    storage_unit = StorageUnit(\n",
    "        id=unit_count,\n",
    "        nameplate_capacity=generator[\"Nameplate Capacity (MW)\"],\n",
    "        charge_rate=generator[\"Nameplate Capacity (MW)\"],\n",
    "        discharge_rate=generator[\"Nameplate Capacity (MW)\"],\n",
    "        charge_capacity=generator[\"Nameplate Energy Capacity (MWh)\"],\n",
    "        roundtrip_efficiency=STORAGE_EFFICIENCY,\n",
    "        storage_duration = generator[\"Nameplate Energy Capacity (MWh)\"] / generator[\"Nameplate Capacity (MW)\"],\n",
    "        storage_class = storage_class   \n",
    "    )\n",
    "    unit_count += 1\n",
    "    builder.add_unit(storage_unit)\n",
    "\n",
    "    # add unit to energy system\n",
    "additional_system = builder.build()"
   ]
  },
  {
   "cell_type": "code",
   "execution_count": null,
   "metadata": {},
   "outputs": [
    {
     "data": {
      "text/plain": [
       "355.29999999999995"
      ]
     },
     "execution_count": 97,
     "metadata": {},
     "output_type": "execute_result"
    }
   ],
   "source": [
    "additional_system.system_capacity"
   ]
  },
  {
   "cell_type": "code",
   "execution_count": null,
   "metadata": {},
   "outputs": [],
   "source": [
    "from assetra.contribution import EffectiveLoadCarryingCapability\n",
    "from assetra.simulation import ProbabilisticSimulation\n",
    "from assetra.metrics import ExpectedUnservedEnergy\n",
    "\n",
    "# initialize elcc model\n",
    "elcc_model = EffectiveLoadCarryingCapability(\n",
    "    energy_system,\n",
    "    ProbabilisticSimulation(\n",
    "        start_hour=\"2020-01-01 00:00:00\",\n",
    "        end_hour=\"2020-12-31 23:00:00\",\n",
    "        trial_size=10\n",
    "    ),\n",
    "    ExpectedUnservedEnergy\n",
    ")\n"
   ]
  },
  {
   "cell_type": "code",
   "execution_count": null,
   "metadata": {},
   "outputs": [],
   "source": [
    "additional_system = builder.build()"
   ]
  },
  {
   "cell_type": "code",
   "execution_count": null,
   "metadata": {},
   "outputs": [
    {
     "data": {
      "text/plain": [
       "14.453125"
      ]
     },
     "execution_count": 100,
     "metadata": {},
     "output_type": "execute_result"
    }
   ],
   "source": [
    "elcc = elcc_model.evaluate(additional_system)\n",
    "elcc_pct = elcc / additional_system.system_capacity * 100\n",
    "elcc_pct"
   ]
  }
 ],
 "metadata": {
  "kernelspec": {
   "display_name": "base",
   "language": "python",
   "name": "python3"
  },
  "language_info": {
   "codemirror_mode": {
    "name": "ipython",
    "version": 3
   },
   "file_extension": ".py",
   "mimetype": "text/x-python",
   "name": "python",
   "nbconvert_exporter": "python",
   "pygments_lexer": "ipython3",
   "version": "3.12.7"
  }
 },
 "nbformat": 4,
 "nbformat_minor": 2
}
